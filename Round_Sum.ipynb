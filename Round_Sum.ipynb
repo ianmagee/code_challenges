{
 "cells": [
  {
   "cell_type": "code",
   "execution_count": 2,
   "metadata": {},
   "outputs": [],
   "source": [
    "# For this problem, we'll round an int value up to the next multiple of 10 \n",
    "# if its rightmost digit is 5 or more, so 15 rounds up to 20. Alternately, \n",
    "# round down to the previous multiple of 10 if its rightmost digit is less \n",
    "# than 5, so 12 rounds down to 10. Given 3 ints, a b c, return the sum of \n",
    "# their rounded values. To avoid code repetition, write a separate helper \n",
    "# \"def round10(num):\" and call it 3 times. Write the helper entirely below \n",
    "# and at the same indent level as round_sum().\n",
    "\n",
    "# Ex.\n",
    "# round_sum(16, 17, 18) → 60\n",
    "# round_sum(12, 13, 14) → 30\n",
    "# round_sum(6, 4, 4) → 10\n",
    "\n",
    "def round10(num):\n",
    "    # takes in num and returns num rounded to the nearest multiple of 10 \n",
    "    if num%10 < 5:\n",
    "        rnd = num - num%10\n",
    "    else:\n",
    "        rnd = num + (10 - num%10)\n",
    "    return rnd\n",
    "\n",
    "def round_sum(a,b,c):\n",
    "    # given three integers, rounds each of them to the nearest multiple of ten \n",
    "    # and then returns the sum of the rounded numbers\n",
    "    lst=[a,b,c]\n",
    "    rnd_list = [round10(x) for x in lst]\n",
    "    return sum(rnd_list)"
   ]
  },
  {
   "cell_type": "code",
   "execution_count": 3,
   "metadata": {},
   "outputs": [
    {
     "data": {
      "text/plain": [
       "10"
      ]
     },
     "execution_count": 3,
     "metadata": {},
     "output_type": "execute_result"
    }
   ],
   "source": [
    "round_sum(4,4,6)"
   ]
  },
  {
   "cell_type": "code",
   "execution_count": 4,
   "metadata": {},
   "outputs": [
    {
     "data": {
      "text/plain": [
       "80"
      ]
     },
     "execution_count": 4,
     "metadata": {},
     "output_type": "execute_result"
    }
   ],
   "source": [
    "round_sum(25,24,25)"
   ]
  },
  {
   "cell_type": "code",
   "execution_count": 5,
   "metadata": {},
   "outputs": [
    {
     "data": {
      "text/plain": [
       "60"
      ]
     },
     "execution_count": 5,
     "metadata": {},
     "output_type": "execute_result"
    }
   ],
   "source": [
    "round_sum(16,17,18)"
   ]
  },
  {
   "cell_type": "code",
   "execution_count": 6,
   "metadata": {},
   "outputs": [
    {
     "data": {
      "text/plain": [
       "30"
      ]
     },
     "execution_count": 6,
     "metadata": {},
     "output_type": "execute_result"
    }
   ],
   "source": [
    "round_sum(12,13,14)"
   ]
  },
  {
   "cell_type": "code",
   "execution_count": 7,
   "metadata": {},
   "outputs": [
    {
     "data": {
      "text/plain": [
       "10"
      ]
     },
     "execution_count": 7,
     "metadata": {},
     "output_type": "execute_result"
    }
   ],
   "source": [
    "round_sum(6,4,4)"
   ]
  },
  {
   "cell_type": "code",
   "execution_count": null,
   "metadata": {},
   "outputs": [],
   "source": []
  }
 ],
 "metadata": {
  "kernelspec": {
   "display_name": "Python 3",
   "language": "python",
   "name": "python3"
  },
  "language_info": {
   "codemirror_mode": {
    "name": "ipython",
    "version": 3
   },
   "file_extension": ".py",
   "mimetype": "text/x-python",
   "name": "python",
   "nbconvert_exporter": "python",
   "pygments_lexer": "ipython3",
   "version": "3.7.2"
  }
 },
 "nbformat": 4,
 "nbformat_minor": 2
}
