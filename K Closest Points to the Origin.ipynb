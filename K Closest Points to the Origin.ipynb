{
 "cells": [
  {
   "cell_type": "code",
   "execution_count": 104,
   "metadata": {},
   "outputs": [
    {
     "name": "stdout",
     "output_type": "stream",
     "text": [
      "Input all points below as (x,y) with no spaces.\n",
      "For example:  (1,-2)\n",
      "When finished enter \"Q\".\n",
      "List Points Here. Type 'Q' and hit enter when finished.(1,1)\n",
      "List Points Here. Type 'Q' and hit enter when finished.(0,0)\n",
      "List Points Here. Type 'Q' and hit enter when finished.(-30,30)\n",
      "List Points Here. Type 'Q' and hit enter when finished.(-2,0)\n",
      "List Points Here. Type 'Q' and hit enter when finished.(111,222)\n",
      "List Points Here. Type 'Q' and hit enter when finished.(-2,-3)\n",
      "List Points Here. Type 'Q' and hit enter when finished.(-9,5)\n",
      "List Points Here. Type 'Q' and hit enter when finished.(13,27)\n",
      "List Points Here. Type 'Q' and hit enter when finished.(24,7)\n",
      "List Points Here. Type 'Q' and hit enter when finished.(3,14)\n",
      "List Points Here. Type 'Q' and hit enter when finished.(4,-2)\n",
      "List Points Here. Type 'Q' and hit enter when finished.(0,100)\n",
      "List Points Here. Type 'Q' and hit enter when finished.(-8,3)\n",
      "List Points Here. Type 'Q' and hit enter when finished.Q\n",
      "Input the number of points you want to find closest to the origin: 5\n",
      "\n",
      "\n",
      "The 5 closest points are:\n",
      "\n",
      "\n",
      "   Point  Distance from Origin\n",
      "   (0,0)              0.000000\n",
      " (-1,-1)              1.414214\n",
      "   (1,1)              1.414214\n",
      "   (1,2)              2.236068\n",
      "   (3,4)              5.000000\n"
     ]
    }
   ],
   "source": [
    "# CHALLENGE: Given a list of points in the coordinate plane, find the k closest points to the origin.\n",
    "\n",
    "import numpy as np\n",
    "import pandas as pd\n",
    "\n",
    "\n",
    "def getpoints():\n",
    "    # OPTIONAL PROGRAM FUNCTION FOR USER INPUT OF POINTS\n",
    "    # Has user input all points they want to examine in the coordinate plane\n",
    "    # and returns it as a list.\n",
    "    print('Input all points below as (x,y) with no spaces.')\n",
    "    print('For example:  (1,-2)')\n",
    "    print('When finished enter \"Q\".')\n",
    "    points = []\n",
    "    while True:\n",
    "        p = input(\"List Points Here. Type 'Q' and hit enter when finished.\")\n",
    "        if p == 'Q':\n",
    "            break\n",
    "        else:\n",
    "            points.append(p)     \n",
    "    \n",
    "    return points\n",
    "        \n",
    "    \n",
    "def getk():\n",
    "    # OPTIONAL PROGRAM FUNCTION FOR USER INPUT OF K\n",
    "    k = int(input(\"Input the number of points you want to find closest to the origin: \"))\n",
    "    return k\n",
    "\n",
    "\n",
    "def find_distance(p):\n",
    "    # Takes in a string of a points (x,y) and returns distance (float) from the origin\n",
    "    x= int(p.split(',')[0][1:])\n",
    "    y= int(p.split(',')[1][:-1])\n",
    "    distance = (x**2 + y**2)**(0.5)\n",
    "    return distance\n",
    "\n",
    "\n",
    "def create_df(lst_points):\n",
    "    # Input: list of points (strings)\n",
    "    # Output: Data Frame of all points and their distances from the origin, sorted from max to min\n",
    "    df = pd.DataFrame()\n",
    "    df['Point'] = lst_points\n",
    "    df['Distance from Origin'] = df['Point'].apply(lambda x: find_distance(x))\n",
    "    df = df.sort_values(['Distance from Origin'],ascending=True)\n",
    "    return df\n",
    "\n",
    "\n",
    "def kclosest(df,k):\n",
    "    # Input 1: dataframe (df) with a column of points and their distances from the origin\n",
    "    # Input 2: k  - how many 'closest' points we need to find\n",
    "    # Output: new dataframe of only those points and their distances\n",
    "    print(df.head(k).to_string(index=False))\n",
    "    \n",
    "    \n",
    "#OPTIONAL MAIN THAT ALLOWS USERS TO INPUT POINTS ONE AT A TIME AND THEN INPUT K\n",
    "\n",
    "points = getpoints()\n",
    "k = getk()\n",
    "print('\\n')\n",
    "print('The ' + str(k) + ' closest points are:')\n",
    "print('\\n')\n",
    "kclosest(df,k)"
   ]
  },
  {
   "cell_type": "code",
   "execution_count": null,
   "metadata": {},
   "outputs": [],
   "source": []
  },
  {
   "cell_type": "code",
   "execution_count": null,
   "metadata": {},
   "outputs": [],
   "source": []
  },
  {
   "cell_type": "code",
   "execution_count": null,
   "metadata": {},
   "outputs": [],
   "source": []
  },
  {
   "cell_type": "code",
   "execution_count": null,
   "metadata": {},
   "outputs": [],
   "source": [
    "# You can also use the functions without the main program if you'd rather just input your own list or if you\n",
    "# already have a list that you want to examine."
   ]
  },
  {
   "cell_type": "code",
   "execution_count": 103,
   "metadata": {
    "scrolled": true
   },
   "outputs": [
    {
     "name": "stdout",
     "output_type": "stream",
     "text": [
      "   Point  Distance from Origin\n",
      "   (0,0)              0.000000\n",
      " (-1,-1)              1.414214\n",
      "   (1,1)              1.414214\n",
      "   (1,2)              2.236068\n",
      "   (3,4)              5.000000\n"
     ]
    }
   ],
   "source": [
    "df = create_df(['(1,2)','(3,4)','(7,9)','(-1,-1)','(-30,-30)','(-10,-10)','(1,1)','(0,0)','(13,0)'])\n",
    "k = 5\n",
    "kclosest(df,k)"
   ]
  },
  {
   "cell_type": "code",
   "execution_count": 100,
   "metadata": {},
   "outputs": [
    {
     "name": "stdout",
     "output_type": "stream",
     "text": [
      "   Point  Distance from Origin\n",
      "   (0,0)              0.000000\n",
      " (-1,-1)              1.414214\n",
      "   (1,1)              1.414214\n"
     ]
    }
   ],
   "source": [
    "kclosest(df,k)"
   ]
  },
  {
   "cell_type": "code",
   "execution_count": 101,
   "metadata": {},
   "outputs": [
    {
     "name": "stdout",
     "output_type": "stream",
     "text": [
      "     Point  Distance from Origin\n",
      "     (0,0)              0.000000\n",
      "   (-1,-1)              1.414214\n",
      "     (1,1)              1.414214\n",
      "     (1,2)              2.236068\n",
      "     (3,4)              5.000000\n",
      "     (7,9)             11.401754\n",
      "    (13,0)             13.000000\n",
      " (-10,-10)             14.142136\n"
     ]
    }
   ],
   "source": [
    "kclosest(df,8)"
   ]
  },
  {
   "cell_type": "code",
   "execution_count": 102,
   "metadata": {},
   "outputs": [
    {
     "data": {
      "text/html": [
       "<div>\n",
       "<style scoped>\n",
       "    .dataframe tbody tr th:only-of-type {\n",
       "        vertical-align: middle;\n",
       "    }\n",
       "\n",
       "    .dataframe tbody tr th {\n",
       "        vertical-align: top;\n",
       "    }\n",
       "\n",
       "    .dataframe thead th {\n",
       "        text-align: right;\n",
       "    }\n",
       "</style>\n",
       "<table border=\"1\" class=\"dataframe\">\n",
       "  <thead>\n",
       "    <tr style=\"text-align: right;\">\n",
       "      <th></th>\n",
       "      <th>Point</th>\n",
       "      <th>Distance from Origin</th>\n",
       "    </tr>\n",
       "  </thead>\n",
       "  <tbody>\n",
       "    <tr>\n",
       "      <th>7</th>\n",
       "      <td>(0,0)</td>\n",
       "      <td>0.000000</td>\n",
       "    </tr>\n",
       "    <tr>\n",
       "      <th>3</th>\n",
       "      <td>(-1,-1)</td>\n",
       "      <td>1.414214</td>\n",
       "    </tr>\n",
       "    <tr>\n",
       "      <th>6</th>\n",
       "      <td>(1,1)</td>\n",
       "      <td>1.414214</td>\n",
       "    </tr>\n",
       "    <tr>\n",
       "      <th>0</th>\n",
       "      <td>(1,2)</td>\n",
       "      <td>2.236068</td>\n",
       "    </tr>\n",
       "    <tr>\n",
       "      <th>1</th>\n",
       "      <td>(3,4)</td>\n",
       "      <td>5.000000</td>\n",
       "    </tr>\n",
       "    <tr>\n",
       "      <th>2</th>\n",
       "      <td>(7,9)</td>\n",
       "      <td>11.401754</td>\n",
       "    </tr>\n",
       "    <tr>\n",
       "      <th>8</th>\n",
       "      <td>(13,0)</td>\n",
       "      <td>13.000000</td>\n",
       "    </tr>\n",
       "    <tr>\n",
       "      <th>5</th>\n",
       "      <td>(-10,-10)</td>\n",
       "      <td>14.142136</td>\n",
       "    </tr>\n",
       "    <tr>\n",
       "      <th>4</th>\n",
       "      <td>(-30,-30)</td>\n",
       "      <td>42.426407</td>\n",
       "    </tr>\n",
       "  </tbody>\n",
       "</table>\n",
       "</div>"
      ],
      "text/plain": [
       "       Point  Distance from Origin\n",
       "7      (0,0)              0.000000\n",
       "3    (-1,-1)              1.414214\n",
       "6      (1,1)              1.414214\n",
       "0      (1,2)              2.236068\n",
       "1      (3,4)              5.000000\n",
       "2      (7,9)             11.401754\n",
       "8     (13,0)             13.000000\n",
       "5  (-10,-10)             14.142136\n",
       "4  (-30,-30)             42.426407"
      ]
     },
     "execution_count": 102,
     "metadata": {},
     "output_type": "execute_result"
    }
   ],
   "source": [
    "# quick look at dataframe that was created for reference\n",
    "\n",
    "df"
   ]
  }
 ],
 "metadata": {
  "kernelspec": {
   "display_name": "Python 3",
   "language": "python",
   "name": "python3"
  },
  "language_info": {
   "codemirror_mode": {
    "name": "ipython",
    "version": 3
   },
   "file_extension": ".py",
   "mimetype": "text/x-python",
   "name": "python",
   "nbconvert_exporter": "python",
   "pygments_lexer": "ipython3",
   "version": "3.7.2"
  }
 },
 "nbformat": 4,
 "nbformat_minor": 2
}
