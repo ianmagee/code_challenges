{
 "cells": [
  {
   "cell_type": "code",
   "execution_count": 35,
   "metadata": {},
   "outputs": [
    {
     "name": "stdout",
     "output_type": "stream",
     "text": [
      "Enter a non-negative integer: 35\n"
     ]
    },
    {
     "data": {
      "text/html": [
       "<div>\n",
       "<style scoped>\n",
       "    .dataframe tbody tr th:only-of-type {\n",
       "        vertical-align: middle;\n",
       "    }\n",
       "\n",
       "    .dataframe tbody tr th {\n",
       "        vertical-align: top;\n",
       "    }\n",
       "\n",
       "    .dataframe thead th {\n",
       "        text-align: right;\n",
       "    }\n",
       "</style>\n",
       "<table border=\"1\" class=\"dataframe\">\n",
       "  <thead>\n",
       "    <tr style=\"text-align: right;\">\n",
       "      <th></th>\n",
       "      <th>Integer</th>\n",
       "      <th>Binary</th>\n",
       "    </tr>\n",
       "  </thead>\n",
       "  <tbody>\n",
       "    <tr>\n",
       "      <th>Original</th>\n",
       "      <td>35</td>\n",
       "      <td>100011</td>\n",
       "    </tr>\n",
       "    <tr>\n",
       "      <th>Complement</th>\n",
       "      <td>28</td>\n",
       "      <td>011100</td>\n",
       "    </tr>\n",
       "  </tbody>\n",
       "</table>\n",
       "</div>"
      ],
      "text/plain": [
       "            Integer  Binary\n",
       "Original         35  100011\n",
       "Complement       28  011100"
      ]
     },
     "metadata": {},
     "output_type": "display_data"
    }
   ],
   "source": [
    "# Description from leetcode.com:\n",
    "#   Given a positive integer, output its complement number. \n",
    "#   The complement strategy is to flip the bits of its binary representation.\n",
    "\n",
    "# Note:\n",
    "#   The given integer is guaranteed to fit within the range of a 32-bit signed integer.\n",
    "#   You could assume no leading zero bit in the integer’s binary representation.\n",
    "\n",
    "# Example 1:\n",
    "#   Input: 5\n",
    "#   Output: 2\n",
    "#   Explanation: The binary representation of 5 is 101 (no leading zero bits), \n",
    "#   and its complement is 010. So you need to output 2.\n",
    "\n",
    "# Example 2:\n",
    "#   Input: 1\n",
    "#   Output: 0\n",
    "#   Explanation: The binary representation of 1 is 1 (no leading zero bits), \n",
    "#   and its complement is 0. So you need to output 0.\n",
    "\n",
    "import numpy as np\n",
    "import pandas as pd\n",
    "\n",
    "# Auxiliary functions:\n",
    "\n",
    "def to_binary(num):\n",
    "    # takes in an integer and returns the binary version as a string\n",
    "    a = bin(num)\n",
    "    return a.split('b')[1]\n",
    "\n",
    "def complement(bnry):\n",
    "    # takes in a binary string and returns the complement of the string e.g. 101 -> 010\n",
    "    cmp = ''\n",
    "    for i in bnry:\n",
    "        if i == '0':\n",
    "            cmp += '1'\n",
    "        else:\n",
    "            cmp += '0'\n",
    "    return cmp\n",
    "\n",
    "def to_integer(str):\n",
    "    # takes in a binary string and converts to and returns the equivalent integer\n",
    "    my_int = 0\n",
    "    exp = 0\n",
    "    for i in reversed(str):\n",
    "        my_int += (int(i)*(2**exp))\n",
    "        exp += 1\n",
    "    return my_int\n",
    "      \n",
    "    \n",
    "# MAIN code:\n",
    "\n",
    "user_int = int(input('Enter a non-negative integer: '))\n",
    "user_bin = to_binary(user_int)\n",
    "comp_bin = complement(to_binary(user_int))\n",
    "comp_int = to_integer(comp_bin)\n",
    "\n",
    "df = pd.DataFrame([[user_int,user_bin],[comp_int,comp_bin]],\\\n",
    "                  index=\"Original Complement\".split(),columns=\"Integer Binary\".split())\n",
    "display(df)"
   ]
  },
  {
   "cell_type": "code",
   "execution_count": null,
   "metadata": {},
   "outputs": [],
   "source": []
  }
 ],
 "metadata": {
  "kernelspec": {
   "display_name": "Python 3",
   "language": "python",
   "name": "python3"
  },
  "language_info": {
   "codemirror_mode": {
    "name": "ipython",
    "version": 3
   },
   "file_extension": ".py",
   "mimetype": "text/x-python",
   "name": "python",
   "nbconvert_exporter": "python",
   "pygments_lexer": "ipython3",
   "version": "3.7.2"
  }
 },
 "nbformat": 4,
 "nbformat_minor": 2
}
