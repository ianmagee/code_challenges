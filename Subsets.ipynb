{
 "cells": [
  {
   "cell_type": "code",
   "execution_count": 130,
   "metadata": {},
   "outputs": [],
   "source": [
    "def subsets(lst):\n",
    "    '''\n",
    "    Given a non-empty set (list) of distinct integers, returns all distinct subsets (no repeats) of the set\n",
    "    \n",
    "    Math note:\n",
    "    Pattern will follow Pascal's Triangle\n",
    "    \n",
    "    n                       Breakdown of subsets:               # of subsets:\n",
    "    0                                 1                               1\n",
    "    1                               1   1                             2\n",
    "    2                             1   2   1                           4\n",
    "    3                           1   3   3   1                         8\n",
    "    4                         1   4   6   4   1                      16\n",
    "    5                       1   5   10  10  5   1                    32\n",
    "    6                     1   6  15   20  15  6   1                  64\n",
    "    '''\n",
    "    \n",
    "    # List placeholder for the subsets\n",
    "    sbsts = []\n",
    "    \n",
    "    n = len(lst)\n",
    "    raw_sbsts = []\n",
    "    \n",
    "    # Use binary to get raw 2**n subsets in boolean form (0-false,1-true)\n",
    "    for i in range(0,2**n):\n",
    "        q = bin(i).split('b')[1]\n",
    "        while len(q)<n:\n",
    "            q = '0' + q\n",
    "        raw_sbsts.append(q)\n",
    "    \n",
    "    # Use boolean list of subsets to create true list of subsets\n",
    "    for j in raw_sbsts:\n",
    "        sbsts.append(check(j,lst))\n",
    "    return sbsts\n",
    "    \n",
    "    \n",
    "def check(raw,real):\n",
    "    # Uses binary (raw) number to keep only indices in list (real) where binary is 1\n",
    "    # e.g.  '1010' with [a,b,c,d] would return [a,c]\n",
    "    temp = []\n",
    "    for i in range(len(raw)):\n",
    "        if int(raw[i])==1:\n",
    "            temp.append(real[i])\n",
    "    return temp\n",
    "        \n",
    "    "
   ]
  },
  {
   "cell_type": "code",
   "execution_count": 136,
   "metadata": {},
   "outputs": [
    {
     "data": {
      "text/plain": [
       "[[], [1]]"
      ]
     },
     "execution_count": 136,
     "metadata": {},
     "output_type": "execute_result"
    }
   ],
   "source": [
    "subsets([1])"
   ]
  },
  {
   "cell_type": "code",
   "execution_count": 135,
   "metadata": {},
   "outputs": [
    {
     "data": {
      "text/plain": [
       "[[], [2], [1], [1, 2]]"
      ]
     },
     "execution_count": 135,
     "metadata": {},
     "output_type": "execute_result"
    }
   ],
   "source": [
    "subsets([1,2])"
   ]
  },
  {
   "cell_type": "code",
   "execution_count": 134,
   "metadata": {},
   "outputs": [
    {
     "data": {
      "text/plain": [
       "[[], [3], [2], [2, 3], [1], [1, 3], [1, 2], [1, 2, 3]]"
      ]
     },
     "execution_count": 134,
     "metadata": {},
     "output_type": "execute_result"
    }
   ],
   "source": [
    "subsets([1,2,3])"
   ]
  },
  {
   "cell_type": "code",
   "execution_count": 133,
   "metadata": {},
   "outputs": [
    {
     "data": {
      "text/plain": [
       "[[],\n",
       " [4],\n",
       " [3],\n",
       " [3, 4],\n",
       " [2],\n",
       " [2, 4],\n",
       " [2, 3],\n",
       " [2, 3, 4],\n",
       " [1],\n",
       " [1, 4],\n",
       " [1, 3],\n",
       " [1, 3, 4],\n",
       " [1, 2],\n",
       " [1, 2, 4],\n",
       " [1, 2, 3],\n",
       " [1, 2, 3, 4]]"
      ]
     },
     "execution_count": 133,
     "metadata": {},
     "output_type": "execute_result"
    }
   ],
   "source": [
    "subsets([1,2,3,4])"
   ]
  },
  {
   "cell_type": "code",
   "execution_count": 132,
   "metadata": {},
   "outputs": [
    {
     "data": {
      "text/plain": [
       "[[],\n",
       " [5],\n",
       " [4],\n",
       " [4, 5],\n",
       " [3],\n",
       " [3, 5],\n",
       " [3, 4],\n",
       " [3, 4, 5],\n",
       " [2],\n",
       " [2, 5],\n",
       " [2, 4],\n",
       " [2, 4, 5],\n",
       " [2, 3],\n",
       " [2, 3, 5],\n",
       " [2, 3, 4],\n",
       " [2, 3, 4, 5],\n",
       " [1],\n",
       " [1, 5],\n",
       " [1, 4],\n",
       " [1, 4, 5],\n",
       " [1, 3],\n",
       " [1, 3, 5],\n",
       " [1, 3, 4],\n",
       " [1, 3, 4, 5],\n",
       " [1, 2],\n",
       " [1, 2, 5],\n",
       " [1, 2, 4],\n",
       " [1, 2, 4, 5],\n",
       " [1, 2, 3],\n",
       " [1, 2, 3, 5],\n",
       " [1, 2, 3, 4],\n",
       " [1, 2, 3, 4, 5]]"
      ]
     },
     "execution_count": 132,
     "metadata": {},
     "output_type": "execute_result"
    }
   ],
   "source": [
    "subsets([1,2,3,4,5])"
   ]
  },
  {
   "cell_type": "code",
   "execution_count": 137,
   "metadata": {},
   "outputs": [
    {
     "data": {
      "text/plain": [
       "[[]]"
      ]
     },
     "execution_count": 137,
     "metadata": {},
     "output_type": "execute_result"
    }
   ],
   "source": [
    "subsets([])"
   ]
  },
  {
   "cell_type": "code",
   "execution_count": null,
   "metadata": {},
   "outputs": [],
   "source": []
  }
 ],
 "metadata": {
  "kernelspec": {
   "display_name": "Python 3",
   "language": "python",
   "name": "python3"
  },
  "language_info": {
   "codemirror_mode": {
    "name": "ipython",
    "version": 3
   },
   "file_extension": ".py",
   "mimetype": "text/x-python",
   "name": "python",
   "nbconvert_exporter": "python",
   "pygments_lexer": "ipython3",
   "version": "3.7.2"
  }
 },
 "nbformat": 4,
 "nbformat_minor": 2
}
