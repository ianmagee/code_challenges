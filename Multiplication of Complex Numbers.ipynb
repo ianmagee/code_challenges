{
 "cells": [
  {
   "cell_type": "code",
   "execution_count": 4,
   "metadata": {},
   "outputs": [
    {
     "name": "stdout",
     "output_type": "stream",
     "text": [
      "Enter first number a+bi: 8+-3i\n",
      "Enter second number a+bi: 0+1i\n"
     ]
    },
    {
     "data": {
      "text/plain": [
       "'3+8i'"
      ]
     },
     "execution_count": 4,
     "metadata": {},
     "output_type": "execute_result"
    }
   ],
   "source": [
    "# Given two complex numbers of the form a + bi, return the product of the numbers in the same form.\n",
    "\n",
    "def complex_to_list(s):\n",
    "    # takes in a complex number in string form 'a+bi' and returns a list of integers [a,b]\n",
    "    s = s.split('i')[0]\n",
    "    lst = s.split('+')\n",
    "    final_list = list(map(lambda x: int(x) , lst))\n",
    "    return (final_list)\n",
    "\n",
    "def complex_to_string(lst):\n",
    "    # takes in a list of two numbers [a,b] and returns complex number string 'a+bi'\n",
    "    s = str(lst[0])+'+'+str(lst[1])+'i'\n",
    "    return (s)\n",
    "\n",
    "def complex_product(x,y):\n",
    "    # takes in two complex numbers x,y in string form ('a+bi') and returns the product as a string\n",
    "    c_one = complex_to_list(x)\n",
    "    c_two = complex_to_list(y)\n",
    "    a = c_one[0]*c_two[0] - c_one[1]*c_two[1]\n",
    "    b = c_one[0]*c_two[1] + c_one[1]*c_two[0]\n",
    "    return complex_to_string([a,b])\n",
    "\n",
    "# optional main\n",
    "x = input('Enter first number a+bi: ')\n",
    "y = input('Enter second number a+bi: ')\n",
    "complex_product(x,y)\n",
    "\n"
   ]
  },
  {
   "cell_type": "code",
   "execution_count": 5,
   "metadata": {},
   "outputs": [
    {
     "data": {
      "text/plain": [
       "'-1+0i'"
      ]
     },
     "execution_count": 5,
     "metadata": {},
     "output_type": "execute_result"
    }
   ],
   "source": [
    "#test1\n",
    "num1 = '0+1i'\n",
    "num2 = '0+1i'\n",
    "complex_product(num1,num2)"
   ]
  },
  {
   "cell_type": "code",
   "execution_count": 6,
   "metadata": {},
   "outputs": [
    {
     "data": {
      "text/plain": [
       "'0+-2i'"
      ]
     },
     "execution_count": 6,
     "metadata": {},
     "output_type": "execute_result"
    }
   ],
   "source": [
    "#test2\n",
    "num1 = '1+-1i'\n",
    "num2 = '1+-1i'\n",
    "complex_product(num1,num2)"
   ]
  },
  {
   "cell_type": "code",
   "execution_count": 7,
   "metadata": {},
   "outputs": [
    {
     "data": {
      "text/plain": [
       "'117+0i'"
      ]
     },
     "execution_count": 7,
     "metadata": {},
     "output_type": "execute_result"
    }
   ],
   "source": [
    "#test3\n",
    "num1 = '9+-6i'\n",
    "num2 = '9+6i'\n",
    "complex_product(num1,num2)"
   ]
  },
  {
   "cell_type": "code",
   "execution_count": null,
   "metadata": {},
   "outputs": [],
   "source": []
  }
 ],
 "metadata": {
  "kernelspec": {
   "display_name": "Python 3",
   "language": "python",
   "name": "python3"
  },
  "language_info": {
   "codemirror_mode": {
    "name": "ipython",
    "version": 3
   },
   "file_extension": ".py",
   "mimetype": "text/x-python",
   "name": "python",
   "nbconvert_exporter": "python",
   "pygments_lexer": "ipython3",
   "version": "3.7.2"
  }
 },
 "nbformat": 4,
 "nbformat_minor": 2
}
