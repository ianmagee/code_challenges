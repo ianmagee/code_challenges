{
 "cells": [
  {
   "cell_type": "code",
   "execution_count": 1,
   "metadata": {},
   "outputs": [],
   "source": [
    "# We want make a package of goal kilos of chocolate. \n",
    "# We have small bars (1 kilo each) and big bars (5 kilos each). \n",
    "# Return the number of small bars to use, assuming we always use \n",
    "# big bars before small bars. Return -1 if it can't be done.\n",
    "#\n",
    "# Ex.\n",
    "# make_chocolate(4, 1, 9) → 4\n",
    "# make_chocolate(4, 1, 10) → -1\n",
    "# make_chocolate(4, 1, 7) → 2\n",
    "\n",
    "\n",
    "def make_chocolate(small, big, goal):\n",
    "    # check if possible using previously made make_bricks function as it\n",
    "    # involves the same mathematical criteria and will return a boolean about\n",
    "    # whether the scenario is possible or not\n",
    "    if make_bricks(small,big,goal):\n",
    "        # find max number of big we can use without going over goal\n",
    "        num_big = big\n",
    "        while num_big*5 > goal:\n",
    "            num_big -= 1\n",
    "        # find number of small needed to complete\n",
    "        num_small = goal - 5*num_big\n",
    "        return num_small    \n",
    "    else:\n",
    "        # impossible, return -1\n",
    "        return (-1)\n",
    "    \n",
    "def make_bricks(small, big, goal):\n",
    "    # COPIED CODE FROM PREVIOUS CHALLENGE\n",
    "    a = small\n",
    "    b = 5*big\n",
    "    # No big bricks\n",
    "    if big == 0:\n",
    "        return (a >=goal)\n",
    "    # No small bricks\n",
    "    elif small == 0:\n",
    "        return (b >= goal and goal%5 ==0)\n",
    "    # All other cases\n",
    "    else:\n",
    "        return (a>=goal%5 and a+b>=goal)"
   ]
  },
  {
   "cell_type": "code",
   "execution_count": 2,
   "metadata": {},
   "outputs": [
    {
     "data": {
      "text/plain": [
       "4"
      ]
     },
     "execution_count": 2,
     "metadata": {},
     "output_type": "execute_result"
    }
   ],
   "source": [
    "make_chocolate(4, 1, 9)"
   ]
  },
  {
   "cell_type": "code",
   "execution_count": 3,
   "metadata": {},
   "outputs": [
    {
     "data": {
      "text/plain": [
       "-1"
      ]
     },
     "execution_count": 3,
     "metadata": {},
     "output_type": "execute_result"
    }
   ],
   "source": [
    "make_chocolate(4, 1, 10)"
   ]
  },
  {
   "cell_type": "code",
   "execution_count": 4,
   "metadata": {},
   "outputs": [
    {
     "data": {
      "text/plain": [
       "2"
      ]
     },
     "execution_count": 4,
     "metadata": {},
     "output_type": "execute_result"
    }
   ],
   "source": [
    "make_chocolate(4, 1, 7)"
   ]
  },
  {
   "cell_type": "code",
   "execution_count": null,
   "metadata": {},
   "outputs": [],
   "source": []
  }
 ],
 "metadata": {
  "kernelspec": {
   "display_name": "Python 3",
   "language": "python",
   "name": "python3"
  },
  "language_info": {
   "codemirror_mode": {
    "name": "ipython",
    "version": 3
   },
   "file_extension": ".py",
   "mimetype": "text/x-python",
   "name": "python",
   "nbconvert_exporter": "python",
   "pygments_lexer": "ipython3",
   "version": "3.7.2"
  }
 },
 "nbformat": 4,
 "nbformat_minor": 2
}
