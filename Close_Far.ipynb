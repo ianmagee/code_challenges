{
 "cells": [
  {
   "cell_type": "code",
   "execution_count": 1,
   "metadata": {},
   "outputs": [],
   "source": [
    "# Given three ints, a b c, return True if one of b or c is \"close\" (differing from a by at most 1), \n",
    "# while the other is \"far\", differing from both other values by 2 or more. \n",
    "\n",
    "# ex.\n",
    "# close_far(1, 2, 10) → True\n",
    "# close_far(1, 2, 3) → False\n",
    "# close_far(4, 1, 3) → True\n",
    "\n",
    "def close_far(a, b, c):\n",
    "    # check the smallest distance condition\n",
    "    small_dist_check = min(abs(b-a),abs(c-a))<=1\n",
    "    # check the two large distance conditions\n",
    "    big_dist_check = max(abs(b-a),abs(c-a))>=2 and abs(b-c)>=2\n",
    "    # return boolean of all conditions being met\n",
    "    return (small_dist_check and big_dist_check)"
   ]
  },
  {
   "cell_type": "code",
   "execution_count": 2,
   "metadata": {},
   "outputs": [
    {
     "data": {
      "text/plain": [
       "True"
      ]
     },
     "execution_count": 2,
     "metadata": {},
     "output_type": "execute_result"
    }
   ],
   "source": [
    "close_far(1,2,10)"
   ]
  },
  {
   "cell_type": "code",
   "execution_count": 3,
   "metadata": {},
   "outputs": [
    {
     "data": {
      "text/plain": [
       "False"
      ]
     },
     "execution_count": 3,
     "metadata": {},
     "output_type": "execute_result"
    }
   ],
   "source": [
    "close_far(1,2,3)"
   ]
  },
  {
   "cell_type": "code",
   "execution_count": 4,
   "metadata": {},
   "outputs": [
    {
     "data": {
      "text/plain": [
       "True"
      ]
     },
     "execution_count": 4,
     "metadata": {},
     "output_type": "execute_result"
    }
   ],
   "source": [
    "close_far(4,1,3)"
   ]
  },
  {
   "cell_type": "code",
   "execution_count": null,
   "metadata": {},
   "outputs": [],
   "source": []
  }
 ],
 "metadata": {
  "kernelspec": {
   "display_name": "Python 3",
   "language": "python",
   "name": "python3"
  },
  "language_info": {
   "codemirror_mode": {
    "name": "ipython",
    "version": 3
   },
   "file_extension": ".py",
   "mimetype": "text/x-python",
   "name": "python",
   "nbconvert_exporter": "python",
   "pygments_lexer": "ipython3",
   "version": "3.7.2"
  }
 },
 "nbformat": 4,
 "nbformat_minor": 2
}
