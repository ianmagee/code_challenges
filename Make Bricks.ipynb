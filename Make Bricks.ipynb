{
 "cells": [
  {
   "cell_type": "code",
   "execution_count": 79,
   "metadata": {},
   "outputs": [],
   "source": [
    "# From CodingBat.com:\n",
    "# We want to make a row of bricks that is goal inches long. \n",
    "# We have a number of small bricks (1 inch each) and big bricks (5 inches each). \n",
    "# Return True if it is possible to make the goal by choosing from the given bricks. \n",
    "\n",
    "# ex.\n",
    "# make_bricks(3, 1, 8) → True\n",
    "# make_bricks(3, 1, 9) → False\n",
    "# make_bricks(3, 2, 10) → True\n",
    "\n",
    "def make_bricks(small, big, goal):\n",
    "    a = small\n",
    "    b = 5*big\n",
    "    # No big bricks\n",
    "    if big == 0:\n",
    "        return (a >=goal)\n",
    "    # No small bricks\n",
    "    elif small == 0:\n",
    "        return (b >= goal and goal%5 ==0)\n",
    "    # All other cases\n",
    "    else:\n",
    "        return (a>=goal%5 and a+b>=goal)"
   ]
  },
  {
   "cell_type": "code",
   "execution_count": 80,
   "metadata": {},
   "outputs": [
    {
     "data": {
      "text/plain": [
       "False"
      ]
     },
     "execution_count": 80,
     "metadata": {},
     "output_type": "execute_result"
    }
   ],
   "source": [
    "make_bricks(6,0,11)"
   ]
  },
  {
   "cell_type": "code",
   "execution_count": 82,
   "metadata": {},
   "outputs": [
    {
     "data": {
      "text/plain": [
       "True"
      ]
     },
     "execution_count": 82,
     "metadata": {},
     "output_type": "execute_result"
    }
   ],
   "source": [
    "make_bricks(3,1,7)"
   ]
  },
  {
   "cell_type": "code",
   "execution_count": 83,
   "metadata": {},
   "outputs": [
    {
     "data": {
      "text/plain": [
       "True"
      ]
     },
     "execution_count": 83,
     "metadata": {},
     "output_type": "execute_result"
    }
   ],
   "source": [
    "make_bricks(20,4,39)"
   ]
  },
  {
   "cell_type": "code",
   "execution_count": 84,
   "metadata": {},
   "outputs": [
    {
     "data": {
      "text/plain": [
       "False"
      ]
     },
     "execution_count": 84,
     "metadata": {},
     "output_type": "execute_result"
    }
   ],
   "source": [
    "make_bricks(20,4,51)"
   ]
  },
  {
   "cell_type": "code",
   "execution_count": null,
   "metadata": {},
   "outputs": [],
   "source": []
  }
 ],
 "metadata": {
  "kernelspec": {
   "display_name": "Python 3",
   "language": "python",
   "name": "python3"
  },
  "language_info": {
   "codemirror_mode": {
    "name": "ipython",
    "version": 3
   },
   "file_extension": ".py",
   "mimetype": "text/x-python",
   "name": "python",
   "nbconvert_exporter": "python",
   "pygments_lexer": "ipython3",
   "version": "3.7.2"
  }
 },
 "nbformat": 4,
 "nbformat_minor": 2
}
