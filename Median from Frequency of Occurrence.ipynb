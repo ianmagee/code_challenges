{
 "cells": [
  {
   "cell_type": "code",
   "execution_count": 68,
   "metadata": {},
   "outputs": [
    {
     "name": "stdout",
     "output_type": "stream",
     "text": [
      "Enter number and frequency as n,f\n",
      "Enter x to finish\n",
      "\n",
      "Number: 0\n",
      "Frequency: 7\n",
      "\n",
      "Number: 1\n",
      "Frequency: 1\n",
      "\n",
      "Number: 2\n",
      "Frequency: 3\n",
      "\n",
      "Number: 3\n",
      "Frequency: 1\n",
      "\n",
      "Number: x\n"
     ]
    },
    {
     "data": {
      "text/plain": [
       "0.0"
      ]
     },
     "execution_count": 68,
     "metadata": {},
     "output_type": "execute_result"
    }
   ],
   "source": [
    "import numpy as np\n",
    "import pandas as pd\n",
    "from statistics import median\n",
    "\n",
    "# Find median of a set given only frequency of each number\n",
    "# input set of number as list of tuples [(number,frequency of number),...]\n",
    "# output median of entire set\n",
    "\n",
    "def median_from_freq(set):\n",
    "    #input - list of tuples (number in set of number, frequency of occurrence in that set)\n",
    "    #output - median of entire set of numbers\n",
    "    return(median(set))\n",
    " \n",
    "# main\n",
    "# user inputs numbers in set and frequency of occurrence, which is converted into a list of entire set\n",
    "lst = []\n",
    "print(\"Enter number and frequency as n,f\")\n",
    "print(\"Enter x to finish\")\n",
    "while True:\n",
    "    try:\n",
    "        print('')\n",
    "        num = int(input('Number: '))\n",
    "        frq = int(input('Frequency: '))\n",
    "        lst.extend(num for i in range(frq))\n",
    "    except ValueError:\n",
    "        break\n",
    "\n",
    "median_from_freq(lst)"
   ]
  }
 ],
 "metadata": {
  "kernelspec": {
   "display_name": "Python 3",
   "language": "python",
   "name": "python3"
  },
  "language_info": {
   "codemirror_mode": {
    "name": "ipython",
    "version": 3
   },
   "file_extension": ".py",
   "mimetype": "text/x-python",
   "name": "python",
   "nbconvert_exporter": "python",
   "pygments_lexer": "ipython3",
   "version": "3.7.2"
  }
 },
 "nbformat": 4,
 "nbformat_minor": 2
}
