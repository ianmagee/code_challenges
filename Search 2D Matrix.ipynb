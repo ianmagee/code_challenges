{
 "cells": [
  {
   "cell_type": "code",
   "execution_count": 1,
   "metadata": {},
   "outputs": [],
   "source": [
    "import numpy as np\n",
    "\n",
    "import random\n",
    "\n",
    " \n",
    "\n",
    "# Write an efficient algorithm that searches for a value in a m x n matrix. The matrix has the following properties:\n",
    "\n",
    "# - Integers in each row are sorted from left to right\n",
    "\n",
    "# - The first integer of each row is greater than the last integer of the previous row.\n",
    "\n",
    "#\n",
    "\n",
    "# Example:\n",
    "\n",
    "# 1  3  5  7\n",
    "\n",
    "# 10 11 16 20\n",
    "\n",
    "# 23 30 34 50\n",
    "\n",
    " \n",
    "\n",
    "# target:  3 --> output: True\n",
    "\n",
    "# target: 13 --> output: False\n",
    "\n",
    " \n",
    "\n",
    "#create matrix\n",
    "\n",
    "M = []\n",
    "\n",
    "for i in range(100):\n",
    "\n",
    "    lst = []\n",
    "\n",
    "    for j in range(5):\n",
    "\n",
    "        lst.append(random.randint(i*10,i*10+9))\n",
    "\n",
    "        lst.sort()\n",
    "\n",
    "    M.append(lst)\n",
    "\n",
    "mat = np.array(M)\n",
    "\n",
    " \n",
    "\n",
    "def find_2d(A,v):\n",
    "\n",
    "    # determines whether value v is in matrix A, where matrix A meets above sorted requirements\n",
    "\n",
    "    inds = A[:,0]\n",
    "\n",
    "    for i in range(len(inds)):\n",
    "\n",
    "        if v<inds[i]:\n",
    "\n",
    "            if i>0:\n",
    "\n",
    "                r = i-1\n",
    "\n",
    "                break\n",
    "\n",
    "            else:\n",
    "\n",
    "                return False\n",
    "\n",
    "        if v>A[len(A)-1,len(A[0])-1]:\n",
    "\n",
    "            return False\n",
    "\n",
    "    for j in A[r,:]:\n",
    "\n",
    "        if v == j:\n",
    "\n",
    "            return True\n",
    "\n",
    "    return False\n",
    "\n",
    " \n",
    "\n",
    "def create_randint_list(n=1000,x=20):\n",
    "\n",
    "    # returns a list of random integers between 0 and n.\n",
    "\n",
    "    lst=[]\n",
    "\n",
    "    for num in range(x):\n",
    "\n",
    "        lst.append(random.randint(0,n))\n",
    "\n",
    "    return lst\n",
    "\n",
    " \n",
    "\n",
    " \n",
    "\n"
   ]
  },
  {
   "cell_type": "code",
   "execution_count": 2,
   "metadata": {},
   "outputs": [
    {
     "name": "stdout",
     "output_type": "stream",
     "text": [
      "778 False\n",
      "615 True\n",
      "478 False\n",
      "601 False\n",
      "29 False\n",
      "32 False\n",
      "787 False\n",
      "861 True\n",
      "662 True\n",
      "271 False\n",
      "257 False\n",
      "221 True\n",
      "130 True\n",
      "304 False\n",
      "406 False\n",
      "771 False\n",
      "984 False\n",
      "188 True\n",
      "360 False\n",
      "715 False\n"
     ]
    }
   ],
   "source": [
    "# TESTING\n",
    "\n",
    "# -------\n",
    "\n",
    "# Test1: 20 random integers between 0 and 1000\n",
    "\n",
    "rndm_ints = create_randint_list()\n",
    "\n",
    "for i in rndm_ints:\n",
    "\n",
    "    print(i,find_2d(mat,i))\n",
    "\n",
    " \n",
    "\n"
   ]
  },
  {
   "cell_type": "code",
   "execution_count": 3,
   "metadata": {},
   "outputs": [
    {
     "data": {
      "text/plain": [
       "False"
      ]
     },
     "execution_count": 3,
     "metadata": {},
     "output_type": "execute_result"
    }
   ],
   "source": [
    "# Test2: Out of bounds lower\n",
    "\n",
    "find_2d(mat,-1)"
   ]
  },
  {
   "cell_type": "code",
   "execution_count": 4,
   "metadata": {},
   "outputs": [
    {
     "data": {
      "text/plain": [
       "False"
      ]
     },
     "execution_count": 4,
     "metadata": {},
     "output_type": "execute_result"
    }
   ],
   "source": [
    "# Test3: Out of bounds upper\n",
    "\n",
    "find_2d(mat,100000)"
   ]
  }
 ],
 "metadata": {
  "kernelspec": {
   "display_name": "Python 3",
   "language": "python",
   "name": "python3"
  },
  "language_info": {
   "codemirror_mode": {
    "name": "ipython",
    "version": 3
   },
   "file_extension": ".py",
   "mimetype": "text/x-python",
   "name": "python",
   "nbconvert_exporter": "python",
   "pygments_lexer": "ipython3",
   "version": "3.7.2"
  }
 },
 "nbformat": 4,
 "nbformat_minor": 2
}
