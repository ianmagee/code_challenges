{
 "cells": [
  {
   "cell_type": "code",
   "execution_count": 114,
   "metadata": {},
   "outputs": [],
   "source": [
    "# DAILY CHALLENGE:\n",
    "# additive persistence is defined as how many loops you have to do summing \n",
    "# an integer's digits until you get a single digit number. Take an integer N:\n",
    "# 1. Add its digits\n",
    "# 2. Repeat until the result has 1 digit\n",
    "# The total number of iterations is the additive persistence of N."
   ]
  },
  {
   "cell_type": "code",
   "execution_count": null,
   "metadata": {},
   "outputs": [],
   "source": [
    "# SOLUTION 1: convert to string first (EASY)\n",
    "\n",
    "def addup(n,count=1):\n",
    "    # takes an integer input, adds up the digits by converting it to a string,\n",
    "    # then returns the additive persistence\n",
    "    tot = sum(int(i) for i in str(n))\n",
    "    # keeps count and continues calling function recursively until total is less than 10\n",
    "    if tot>=10:\n",
    "        return(addup(tot,count+1))\n",
    "    return count\n",
    "\n",
    "num = int(input(\"Enter a positive integer: \"))\n",
    "ap = addup(num)\n",
    "print(f'The additive persistence of {num} is {ap}.')\n"
   ]
  },
  {
   "cell_type": "code",
   "execution_count": 113,
   "metadata": {},
   "outputs": [
    {
     "name": "stdout",
     "output_type": "stream",
     "text": [
      "Enter a positive integer: 5239\n",
      "The additive persistence of 5239 is 3\n"
     ]
    }
   ],
   "source": [
    "# Solution 2: leave input as integer, don't convert to string (INTERMEDIATE)\n",
    "\n",
    "def sumdigits(num,sum=0):\n",
    "    # takes in an integer and returns the sum of the digits\n",
    "    while num>0:\n",
    "        i = num%10\n",
    "        sum = sum + i\n",
    "        num = (num - i)//10\n",
    "    return (sum)\n",
    "\n",
    "def howmany(num, count=1):\n",
    "    # takes in an integer and returns its additive persistence value \n",
    "    tot = sumdigits(num)\n",
    "    # while keeping count, recursively adds digits of each total until total is less than 10\n",
    "    if tot >= 10:\n",
    "        return (howmany(tot,count+1))\n",
    "    return count\n",
    "\n",
    "user_num = int(input(\"Enter a positive integer: \"))\n",
    "\n",
    "print(f'The additive persistence of {user_num} is {howmany(user_num)}.')\n",
    "\n",
    "\n"
   ]
  },
  {
   "cell_type": "code",
   "execution_count": null,
   "metadata": {},
   "outputs": [],
   "source": []
  }
 ],
 "metadata": {
  "kernelspec": {
   "display_name": "Python 3",
   "language": "python",
   "name": "python3"
  },
  "language_info": {
   "codemirror_mode": {
    "name": "ipython",
    "version": 3
   },
   "file_extension": ".py",
   "mimetype": "text/x-python",
   "name": "python",
   "nbconvert_exporter": "python",
   "pygments_lexer": "ipython3",
   "version": "3.7.2"
  }
 },
 "nbformat": 4,
 "nbformat_minor": 2
}
