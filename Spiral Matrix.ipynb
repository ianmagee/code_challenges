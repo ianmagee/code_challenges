{
 "cells": [
  {
   "cell_type": "code",
   "execution_count": null,
   "metadata": {},
   "outputs": [],
   "source": [
    "import numpy as np\n",
    "\n",
    "def sprl_mtrx(J,v=[]):\n",
    "    \n",
    "    # Returns a list of spiral entries from a matrix\n",
    "\n",
    "    M = J.copy()\n",
    "\n",
    "    if M.ndim<=1 or M.shape[0]==1:\n",
    "\n",
    "        for m in M:\n",
    "\n",
    "            for n in m:\n",
    "\n",
    "                 v.append(m)\n",
    "\n",
    "    elif M.shape[1]==1:\n",
    "\n",
    "        for i in M:\n",
    "\n",
    "            for j in i:\n",
    "\n",
    "                v.append(j)\n",
    "\n",
    "    else:\n",
    "\n",
    "        for m in M[0]:\n",
    "\n",
    "            v.append(m)\n",
    "\n",
    "        M = np.rot90(M[1:,])\n",
    "\n",
    "        sprl_mtrx(M,v)\n",
    "\n",
    "    return v"
   ]
  },
  {
   "cell_type": "code",
   "execution_count": null,
   "metadata": {},
   "outputs": [],
   "source": [
    "A = np.array([[1,2,3,4,5,6,7],[8,9,10,11,12,13,14],[15,16,17,18,19,20,21],[22,23,24,25,26,27,28]])"
   ]
  },
  {
   "cell_type": "code",
   "execution_count": null,
   "metadata": {},
   "outputs": [],
   "source": [
    "print('Matrix: ',A)"
   ]
  },
  {
   "cell_type": "code",
   "execution_count": null,
   "metadata": {},
   "outputs": [],
   "source": [
    "spiral = sprl_mtrx(A)"
   ]
  },
  {
   "cell_type": "code",
   "execution_count": null,
   "metadata": {},
   "outputs": [],
   "source": [
    "print('Spiral: ',spiral)"
   ]
  },
  {
   "cell_type": "code",
   "execution_count": null,
   "metadata": {},
   "outputs": [],
   "source": []
  }
 ],
 "metadata": {
  "kernelspec": {
   "display_name": "Python 3",
   "language": "python",
   "name": "python3"
  },
  "language_info": {
   "codemirror_mode": {
    "name": "ipython",
    "version": 3
   },
   "file_extension": ".py",
   "mimetype": "text/x-python",
   "name": "python",
   "nbconvert_exporter": "python",
   "pygments_lexer": "ipython3",
   "version": "3.7.2"
  }
 },
 "nbformat": 4,
 "nbformat_minor": 2
}
